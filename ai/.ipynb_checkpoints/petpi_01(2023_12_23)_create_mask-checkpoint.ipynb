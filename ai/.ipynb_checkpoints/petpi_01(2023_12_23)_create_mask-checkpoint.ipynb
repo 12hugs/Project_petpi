{
 "cells": [
  {
   "cell_type": "code",
   "execution_count": 5,
   "id": "184ce687",
   "metadata": {},
   "outputs": [],
   "source": [
    "import os\n",
    "import json\n",
    "import numpy as np\n",
    "from PIL import Image, ImageDraw\n",
    "import pandas as pd\n",
    "import glob\n",
    "\n",
    "from tensorflow.keras.layers import Input, Conv2D, MaxPooling2D, UpSampling2D, concatenate\n",
    "from tensorflow.keras.models import Model\n",
    "from tensorflow.keras.optimizers import Adam\n",
    "from sklearn.model_selection import train_test_split"
   ]
  },
  {
   "cell_type": "code",
   "execution_count": 6,
   "id": "f21c7e25",
   "metadata": {},
   "outputs": [],
   "source": [
    "def load_json(json_path):\n",
    "    with open(json_path, 'r', encoding='utf-8') as file:\n",
    "        return json.load(file)"
   ]
  },
  {
   "cell_type": "code",
   "execution_count": null,
   "id": "8d29b647",
   "metadata": {},
   "outputs": [],
   "source": [
    "def create_mask(image_shape, polygons):\n",
    "    mask = Image.new('L', image_shape, 0)\n",
    "    for polygon in polygons:\n",
    "        xy = [(point['x1'], point['y1']) for point in polygon['location']]\n",
    "        ImageDraw.Draw(mask).polygon(xy, outline=1, fill=1)\n",
    "    return mask"
   ]
  },
  {
   "cell_type": "code",
   "execution_count": null,
   "id": "f9ef9de8",
   "metadata": {},
   "outputs": [],
   "source": [
    "base_folder = '무증상'\n",
    "class_folders = os.listdir(base_folder)\n",
    "\n",
    "image_paths = []\n",
    "json_paths = []\n",
    "\n",
    "for class_folder in class_folders:\n",
    "    image_files = glob.glob(os.path.join(base_folder, class_folder, '*.jpg'))\n",
    "    json_files = [file.replace('.jpg', '.json') for file in image_files]\n",
    "    \n",
    "    image_paths.extend(image_files)\n",
    "    json_paths.extend(json_files)"
   ]
  },
  {
   "cell_type": "code",
   "execution_count": null,
   "id": "8c47062a",
   "metadata": {},
   "outputs": [],
   "source": [
    "\n",
    "for img_path, json_path in zip(image_paths, json_paths):\n",
    "    json_data = load_json(json_path)\n",
    "    image = Image.open(img_path)\n",
    "    image_shape = image.size\n",
    "\n",
    "    # breed와 label 추출\n",
    "    breed = json_data['metaData']['breed']\n",
    "    diagnosis = json_data['metaData']['diagnosis']  # 예시로 diagnosis를 사용\n",
    "\n",
    "    # 폴리곤 좌표를 이용하여 마스크 생성\n",
    "    polygons = [info for info in json_data['labelingInfo'] if info['type'] == 'polygon']\n",
    "    mask = create_mask(image_shape, polygons)\n",
    "\n",
    "    # 마스크 이미지 저장 경로 설정\n",
    "    mask_image_path = img_path.replace('.png', '_mask.png')\n",
    "    mask.save(mask_image_path)\n",
    "\n",
    "    # 데이터프레임에 정보 추가\n",
    "    data.append({\n",
    "        'image_path': img_path,\n",
    "        'mask_path': mask_image_path,\n",
    "        'breed': breed,\n",
    "        'diagnosis': diagnosis\n",
    "    })\n",
    "\n",
    "# 데이터프레임 생성 및 CSV 파일로 저장\n",
    "df = pd.DataFrame(data)\n",
    "df.to_csv('dataset.csv', index=False)"
   ]
  },
  {
   "cell_type": "code",
   "execution_count": null,
   "id": "41c62c09",
   "metadata": {},
   "outputs": [],
   "source": [
    "# 컨볼루션 블록 생성\n",
    "def conv_block(input_tensor, num_filters):    \n",
    "    x = Conv2D(num_filters, (3, 3), activation='relu', padding='same')(input_tensor)\n",
    "    x = Conv2D(num_filters, (3, 3), activation='relu', padding='same')(x)\n",
    "    return x\n",
    "\n",
    "# 인코더 블록 생성\n",
    "def encoder_block(input_tensor, num_filters):    \n",
    "    x = conv_block(input_tensor, num_filters)\n",
    "    p = MaxPooling2D((2, 2))(x)\n",
    "    return x, p\n",
    "\n",
    "# 디코더 블록 생성\n",
    "def decoder_block(input_tensor, concat_tensor, num_filters):    \n",
    "    x = UpSampling2D((2, 2))(input_tensor)\n",
    "    x = concatenate([x, concat_tensor], axis=-1)\n",
    "    x = conv_block(x, num_filters)\n",
    "    return x\n",
    "\n",
    "def unet(input_size=(256, 256, 1), num_filters_start=64, num_blocks=4, num_classes=7):\n",
    "    inputs = Input(input_size)\n",
    "    x = inputs\n",
    "    skips = []\n",
    "    \n",
    "    for i in range(num_blocks):\n",
    "        x, x_pool = encoder_block(x, num_filters_start * (2 ** i))\n",
    "        skips.append(x)\n",
    "        x = x_pool\n",
    "        \n",
    "    x = conv_block(x, num_filters_start * (2 ** num_blocks))\n",
    "    \n",
    "    for i in reversed(range(num_blocks)):\n",
    "        x = decoder_block(x, skips[i], num_filters_start * (2 ** i))\n",
    "\n",
    "    outputs = Conv2D(num_classes, (1, 1), activation='softmax')(x)\n",
    "\n",
    "    model = Model(inputs=[inputs], outputs=[outputs])\n",
    "    return model\n"
   ]
  },
  {
   "cell_type": "code",
   "execution_count": null,
   "id": "561ad6cf",
   "metadata": {},
   "outputs": [],
   "source": [
    "model = unet()\n",
    "model.summary()"
   ]
  },
  {
   "cell_type": "code",
   "execution_count": null,
   "id": "419bd97a",
   "metadata": {},
   "outputs": [],
   "source": [
    "model.compile(optimizer=Adam(), loss='binary_crossentropy', metrics=['accuracy'])\n",
    "\n",
    "X = # 이미지 데이터 로드\n",
    "y = # 마스크 데이터 로드\n",
    "\n",
    "# 데이터를 훈련 세트와 검증 세트로 분할합니다.\n",
    "X_train, X_val, y_train, y_val = train_test_split(X, y, test_size=0.1)\n",
    "\n",
    "# 모델을 학습합니다.\n",
    "model.fit(X_train, y_train, validation_data=(X_val, y_val), epochs=50, batch_size=2)\n",
    "\n",
    "# 모델 성능을 평가합니다.\n",
    "model.evaluate(X_val, y_val)"
   ]
  },
  {
   "cell_type": "code",
   "execution_count": null,
   "id": "875833c4",
   "metadata": {},
   "outputs": [],
   "source": []
  }
 ],
 "metadata": {
  "kernelspec": {
   "display_name": "Python 3 (ipykernel)",
   "language": "python",
   "name": "python3"
  },
  "language_info": {
   "codemirror_mode": {
    "name": "ipython",
    "version": 3
   },
   "file_extension": ".py",
   "mimetype": "text/x-python",
   "name": "python",
   "nbconvert_exporter": "python",
   "pygments_lexer": "ipython3",
   "version": "3.11.5"
  }
 },
 "nbformat": 4,
 "nbformat_minor": 5
}
