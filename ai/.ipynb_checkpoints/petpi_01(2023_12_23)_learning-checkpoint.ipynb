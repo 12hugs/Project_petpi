{
 "cells": [
  {
   "cell_type": "code",
   "execution_count": 3,
   "id": "45ae0786",
   "metadata": {},
   "outputs": [
    {
     "name": "stdout",
     "output_type": "stream",
     "text": [
      "WARNING:tensorflow:From C:\\Users\\rlarn\\anaconda3\\Lib\\site-packages\\keras\\src\\losses.py:2976: The name tf.losses.sparse_softmax_cross_entropy is deprecated. Please use tf.compat.v1.losses.sparse_softmax_cross_entropy instead.\n",
      "\n"
     ]
    }
   ],
   "source": [
    "from tensorflow.keras.layers import Input, Conv2D, MaxPooling2D, UpSampling2D, concatenate\n",
    "from tensorflow.keras.models import Model\n",
    "from tensorflow.keras.optimizers import Adam\n",
    "from sklearn.model_selection import train_test_split"
   ]
  },
  {
   "cell_type": "code",
   "execution_count": 4,
   "id": "26728250",
   "metadata": {},
   "outputs": [],
   "source": [
    "# 컨볼루션 블록 생성\n",
    "def conv_block(input_tensor, num_filters):    \n",
    "    x = Conv2D(num_filters, (3, 3), activation='relu', padding='same')(input_tensor)\n",
    "    x = Conv2D(num_filters, (3, 3), activation='relu', padding='same')(x)\n",
    "    return x\n",
    "\n",
    "# 인코더 블록 생성\n",
    "def encoder_block(input_tensor, num_filters):    \n",
    "    x = conv_block(input_tensor, num_filters)\n",
    "    p = MaxPooling2D((2, 2))(x)\n",
    "    return x, p\n",
    "\n",
    "# 디코더 블록 생성\n",
    "def decoder_block(input_tensor, concat_tensor, num_filters):    \n",
    "    x = UpSampling2D((2, 2))(input_tensor)\n",
    "    x = concatenate([x, concat_tensor], axis=-1)\n",
    "    x = conv_block(x, num_filters)\n",
    "    return x\n",
    "\n",
    "def unet(input_size=(256, 256, 1), num_filters_start=64, num_blocks=4, num_classes=7):\n",
    "    inputs = Input(input_size)\n",
    "    x = inputs\n",
    "    skips = []\n",
    "    \n",
    "    for i in range(num_blocks):\n",
    "        x, x_pool = encoder_block(x, num_filters_start * (2 ** i))\n",
    "        skips.append(x)\n",
    "        x = x_pool\n",
    "        \n",
    "    x = conv_block(x, num_filters_start * (2 ** num_blocks))\n",
    "    \n",
    "    for i in reversed(range(num_blocks)):\n",
    "        x = decoder_block(x, skips[i], num_filters_start * (2 ** i))\n",
    "\n",
    "    outputs = Conv2D(num_classes, (1, 1), activation='softmax')(x)\n",
    "\n",
    "    model = Model(inputs=[inputs], outputs=[outputs])\n",
    "    return model\n"
   ]
  },
  {
   "cell_type": "code",
   "execution_count": null,
   "id": "0f5a2170",
   "metadata": {},
   "outputs": [],
   "source": [
    "model = unet()\n",
    "model.summary()"
   ]
  },
  {
   "cell_type": "code",
   "execution_count": 5,
   "id": "b4d2d01e",
   "metadata": {},
   "outputs": [
    {
     "ename": "SyntaxError",
     "evalue": "invalid syntax (1183828750.py, line 7)",
     "output_type": "error",
     "traceback": [
      "\u001b[1;36m  Cell \u001b[1;32mIn[5], line 7\u001b[1;36m\u001b[0m\n\u001b[1;33m    X = # 이미지 데이터 로드\u001b[0m\n\u001b[1;37m        ^\u001b[0m\n\u001b[1;31mSyntaxError\u001b[0m\u001b[1;31m:\u001b[0m invalid syntax\n"
     ]
    }
   ],
   "source": [
    "model.compile(optimizer=Adam(), loss='binary_crossentropy', metrics=['accuracy'])\n",
    "\n",
    "X = # 이미지 데이터 로드\n",
    "y = # 마스크 데이터 로드\n",
    "\n",
    "# 데이터를 훈련 세트와 검증 세트로 분할합니다.\n",
    "X_train, X_val, y_train, y_val = train_test_split(X, y, test_size=0.1)\n",
    "\n",
    "# 모델을 학습합니다.\n",
    "model.fit(X_train, y_train, validation_data=(X_val, y_val), epochs=50, batch_size=2)\n",
    "\n",
    "# 모델 성능을 평가합니다.\n",
    "model.evaluate(X_val, y_val)"
   ]
  }
 ],
 "metadata": {
  "kernelspec": {
   "display_name": "Python 3 (ipykernel)",
   "language": "python",
   "name": "python3"
  },
  "language_info": {
   "codemirror_mode": {
    "name": "ipython",
    "version": 3
   },
   "file_extension": ".py",
   "mimetype": "text/x-python",
   "name": "python",
   "nbconvert_exporter": "python",
   "pygments_lexer": "ipython3",
   "version": "3.11.5"
  }
 },
 "nbformat": 4,
 "nbformat_minor": 5
}
