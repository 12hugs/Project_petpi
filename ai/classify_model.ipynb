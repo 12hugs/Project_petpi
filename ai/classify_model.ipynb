{
 "cells": [
  {
   "cell_type": "markdown",
   "id": "c873970e",
   "metadata": {},
   "source": [
    "### 데이터 전처리\n",
    "- 폴리곤 어노테이션을 사용하여 이미지에서 특징 추출\n",
    "- JSON 파일에서 breed, lesions, path추출\n",
    "\n",
    "### 데이터프레임 생성 및 저장\n",
    "- img_data (이미지 특징), breed, path, lesions 컬럼이 있는 df\n",
    "- lesions은 분류 클래스\n",
    "- csv 파일 저장\n",
    "\n",
    "### 훈련/검증/테스트\n",
    "- 모든 카테고리(A1-A6)에 대한 전처리 후, CSV 파일을 합치기\n",
    "- 훈련 세트와 테스트 세트로 8:2 비율로 분할\n",
    "- U-net사용하여 학습\n",
    "- 훈련세트에서 9:1비율로 검증용으로 사용\n",
    "- 학습 후 테스트 세트로 테스트"
   ]
  },
  {
   "cell_type": "code",
   "execution_count": 1,
   "id": "e2e49d95",
   "metadata": {},
   "outputs": [
    {
     "name": "stdout",
     "output_type": "stream",
     "text": [
      "WARNING:tensorflow:From C:\\Users\\rlarn\\anaconda3\\Lib\\site-packages\\keras\\src\\losses.py:2976: The name tf.losses.sparse_softmax_cross_entropy is deprecated. Please use tf.compat.v1.losses.sparse_softmax_cross_entropy instead.\n",
      "\n"
     ]
    }
   ],
   "source": [
    "import os\n",
    "import json\n",
    "import numpy as np\n",
    "from PIL import Image, ImageDraw\n",
    "import pandas as pd\n",
    "import glob\n",
    "\n",
    "from tensorflow.keras.layers import Input, Conv2D, MaxPooling2D, UpSampling2D, concatenate\n",
    "from tensorflow.keras.models import Model\n",
    "from tensorflow.keras.optimizers import Adam\n",
    "from sklearn.model_selection import train_test_split"
   ]
  },
  {
   "cell_type": "code",
   "execution_count": 12,
   "id": "2a31b38b",
   "metadata": {},
   "outputs": [],
   "source": [
    "def load_json(json_path):\n",
    "    with open(json_path, 'r', encoding='utf-8') as file:\n",
    "        return json.load(file)"
   ]
  },
  {
   "cell_type": "code",
   "execution_count": 13,
   "id": "bb848391",
   "metadata": {},
   "outputs": [],
   "source": [
    "base_folder = 'data/training/dog/no/test'\n",
    "class_folders = os.listdir(base_folder)"
   ]
  },
  {
   "cell_type": "code",
   "execution_count": 14,
   "id": "4cc791e3",
   "metadata": {},
   "outputs": [],
   "source": [
    "image_paths = []\n",
    "json_paths = []\n",
    "\n",
    "for class_folder in class_folders:\n",
    "    image_files = glob.glob(os.path.join(base_folder, class_folder, '*.jpg'))\n",
    "    json_files = [file.replace('.jpg', '.json') for file in image_files]\n",
    "    \n",
    "    image_paths.extend(image_files)\n",
    "    json_paths.extend(json_files)\n",
    "image_paths = [path.replace('\\\\', '/') for path in image_paths]\n",
    "json_paths = [path.replace('\\\\', '/') for path in json_paths]"
   ]
  },
  {
   "cell_type": "code",
   "execution_count": 15,
   "id": "50356ecf",
   "metadata": {},
   "outputs": [],
   "source": [
    "def create_mask(image_shape, polygons):\n",
    "    mask = Image.new('L', image_shape, 0)\n",
    "    for polygon in polygons:\n",
    "        # 'xN', 'yN' 형태의 모든 점을 찾아서 목록 생성\n",
    "        xy = []\n",
    "        i = 1\n",
    "        while f'x{i}' in polygon and f'y{i}' in polygon:\n",
    "            x = polygon[f'x{i}']\n",
    "            y = polygon[f'y{i}']\n",
    "            xy.append((x, y))\n",
    "            i += 1\n",
    "\n",
    "        # 폴리곤을 마스크에 그리기\n",
    "        ImageDraw.Draw(mask).polygon(xy, outline=1, fill=1)\n",
    "    return mask"
   ]
  },
  {
   "cell_type": "code",
   "execution_count": 16,
   "id": "2b851e0b",
   "metadata": {},
   "outputs": [],
   "source": [
    "for img_path, json_path in zip(image_paths, json_paths):\n",
    "    json_data = load_json(json_path)\n",
    "    image = Image.open(img_path)\n",
    "    image_shape = image.size\n",
    "\n",
    "    # 폴리곤 좌표를 이용하여 마스크 생성\n",
    "    polygons = json_data['labelingInfo'][0]['polygon']['location']    \n",
    "    mask = create_mask(image_shape, polygons)\n",
    "\n",
    "    mask_image_path = img_path.replace('.jpg', '_mask.png')\n",
    "    mask.save(mask_image_path)"
   ]
  },
  {
   "cell_type": "code",
   "execution_count": 17,
   "id": "e377d5bc",
   "metadata": {},
   "outputs": [],
   "source": [
    "mask_paths = []\n",
    "\n",
    "for class_folder in class_folders:\n",
    "    mask_files = glob.glob(os.path.join(base_folder, class_folder, '*.png'))        \n",
    "    mask_paths.extend(mask_files)\n",
    "    \n",
    "mask_paths = [path.replace('\\\\', '/') for path in mask_paths]"
   ]
  },
  {
   "cell_type": "code",
   "execution_count": null,
   "id": "0b12729b",
   "metadata": {},
   "outputs": [],
   "source": [
    "# 컨볼루션 블록 생성\n",
    "def conv_block(input_tensor, num_filters):    \n",
    "    x = Conv2D(num_filters, (3, 3), activation='relu', padding='same')(input_tensor)\n",
    "    x = Conv2D(num_filters, (3, 3), activation='relu', padding='same')(x)\n",
    "    return x\n",
    "\n",
    "# 인코더 블록 생성\n",
    "def encoder_block(input_tensor, num_filters):    \n",
    "    x = conv_block(input_tensor, num_filters)\n",
    "    p = MaxPooling2D((2, 2))(x)\n",
    "    return x, p\n",
    "\n",
    "# 디코더 블록 생성\n",
    "def decoder_block(input_tensor, concat_tensor, num_filters):    \n",
    "    x = UpSampling2D((2, 2))(input_tensor)\n",
    "    x = concatenate([x, concat_tensor], axis=-1)\n",
    "    x = conv_block(x, num_filters)\n",
    "    return x\n",
    "\n",
    "def unet(input_size=(256, 256, 1), num_filters_start=64, num_blocks=4, num_classes=7):\n",
    "    inputs = Input(input_size)\n",
    "    x = inputs\n",
    "    skips = []\n",
    "    \n",
    "    for i in range(num_blocks):\n",
    "        x, x_pool = encoder_block(x, num_filters_start * (2 ** i))\n",
    "        skips.append(x)\n",
    "        x = x_pool\n",
    "        \n",
    "    x = conv_block(x, num_filters_start * (2 ** num_blocks))\n",
    "    \n",
    "    for i in reversed(range(num_blocks)):\n",
    "        x = decoder_block(x, skips[i], num_filters_start * (2 ** i))\n",
    "\n",
    "    outputs = Conv2D(num_classes, (1, 1), activation='softmax')(x)\n",
    "\n",
    "    model = Model(inputs=[inputs], outputs=[outputs])\n",
    "    return model"
   ]
  },
  {
   "cell_type": "code",
   "execution_count": null,
   "id": "5e39ff17",
   "metadata": {},
   "outputs": [],
   "source": [
    "model = unet()\n",
    "model.summary()"
   ]
  },
  {
   "cell_type": "code",
   "execution_count": null,
   "id": "43030315",
   "metadata": {},
   "outputs": [],
   "source": [
    "for img_path, json_path in zip(image_paths, json_paths):\n",
    "    json_data = load_json(json_path)\n",
    "    image = Image.open(img_path)\n",
    "    image_shape = image.size\n",
    "\n",
    "    # breed와 label 추출\n",
    "    breed = json_data['metaData']['breed']\n",
    "    Path = json_data['metaData']['Path']\n",
    "    labeling = json_data['labelingInfo'][0]['polygon']['label']\n",
    "\n",
    "    # 폴리곤 좌표를 이용하여 마스크 생성\n",
    "    polygons = json_data['labelingInfo'][0]['polygon']['location']    \n",
    "    mask = create_mask(image_shape, polygons)\n",
    "\n",
    "    # 마스크 이미지 저장 경로 설정\n",
    "    mask_image_path = img_path.replace('.png', '_mask.png')\n",
    "    mask.save(mask_image_path)\n",
    "\n",
    "    # 데이터프레임에 정보 추가\n",
    "    data = {\n",
    "        'image_path': img_path,\n",
    "        'mask_path': mask_image_path,\n",
    "        'breed': breed,\n",
    "        'Path': Path,\n",
    "        'label': labeling\n",
    "        }\n",
    "\n",
    "# 데이터프레임 생성 및 CSV 파일로 저장\n",
    "df = pd.DataFrame(data)\n",
    "df.to_csv('dataset.csv', index=False)"
   ]
  },
  {
   "cell_type": "code",
   "execution_count": null,
   "id": "cc612632",
   "metadata": {},
   "outputs": [],
   "source": [
    "from tensorflow.keras.preprocessing.image import ImageDataGenerator\n",
    "\n",
    "# 데이터 제너레이터 인스턴스 생성\n",
    "data_gen_args = dict(rescale=1./255,\n",
    "                     rotation_range=10,\n",
    "                     width_shift_range=0.1,\n",
    "                     height_shift_range=0.1,\n",
    "                     shear_range=0.05,\n",
    "                     zoom_range=0.05,\n",
    "                     horizontal_flip=True,\n",
    "                     fill_mode='nearest')\n",
    "\n",
    "image_datagen = ImageDataGenerator(**data_gen_args)\n",
    "\n",
    "# 모델 훈련\n",
    "train_generator = image_datagen.flow_from_directory(\n",
    "    'data/training',\n",
    "    target_size=(256, 256),\n",
    "    color_mode='grayscale',\n",
    "    batch_size=32,\n",
    "    class_mode='binary')\n",
    "\n",
    "unet_model.fit_generator(\n",
    "    train_generator,\n",
    "    steps_per_epoch=2000,\n",
    "    epochs=50)\n"
   ]
  },
  {
   "cell_type": "code",
   "execution_count": null,
   "id": "70623352",
   "metadata": {},
   "outputs": [],
   "source": []
  },
  {
   "cell_type": "code",
   "execution_count": null,
   "id": "db32daa5",
   "metadata": {},
   "outputs": [],
   "source": []
  },
  {
   "cell_type": "code",
   "execution_count": null,
   "id": "37553d32",
   "metadata": {},
   "outputs": [],
   "source": []
  },
  {
   "cell_type": "code",
   "execution_count": null,
   "id": "c22fc8bf",
   "metadata": {},
   "outputs": [],
   "source": []
  },
  {
   "cell_type": "code",
   "execution_count": null,
   "id": "71c62440",
   "metadata": {},
   "outputs": [],
   "source": []
  },
  {
   "cell_type": "code",
   "execution_count": null,
   "id": "248583be",
   "metadata": {},
   "outputs": [],
   "source": []
  },
  {
   "cell_type": "code",
   "execution_count": null,
   "id": "3cfaf059",
   "metadata": {},
   "outputs": [],
   "source": []
  },
  {
   "cell_type": "code",
   "execution_count": null,
   "id": "2eb61ae4",
   "metadata": {},
   "outputs": [],
   "source": []
  }
 ],
 "metadata": {
  "kernelspec": {
   "display_name": "Python 3 (ipykernel)",
   "language": "python",
   "name": "python3"
  },
  "language_info": {
   "codemirror_mode": {
    "name": "ipython",
    "version": 3
   },
   "file_extension": ".py",
   "mimetype": "text/x-python",
   "name": "python",
   "nbconvert_exporter": "python",
   "pygments_lexer": "ipython3",
   "version": "3.11.5"
  }
 },
 "nbformat": 4,
 "nbformat_minor": 5
}
